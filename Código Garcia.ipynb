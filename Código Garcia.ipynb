{
  "cells": [
    {
      "cell_type": "markdown",
      "metadata": {
        "id": "view-in-github",
        "colab_type": "text"
      },
      "source": [
        "<a href=\"https://colab.research.google.com/github/jorgfernandosantana/Jorge_Santana/blob/main/C%C3%B3digo%20Garcia.ipynb\" target=\"_parent\"><img src=\"https://colab.research.google.com/assets/colab-badge.svg\" alt=\"Open In Colab\"/></a>"
      ]
    },
    {
      "cell_type": "code",
      "source": [
        "!pip install -q nltk scikit-learn\n",
        "\n",
        "import pandas as pd\n",
        "import numpy as np\n",
        "from sklearn.feature_extraction.text import TfidfVectorizer\n",
        "from sklearn.metrics.pairwise import cosine_similarity\n",
        "from nltk.corpus import stopwords\n",
        "from nltk.tokenize import word_tokenize\n",
        "import string\n",
        "import nltk\n",
        "\n",
        "nltk.download('punkt')\n",
        "nltk.download('stopwords')\n",
        "nltk.download('punkt_tab') # Adiciona a linha para baixar o recurso 'punkt_tab'\n",
        "\n",
        "from google.colab import files\n",
        "uploaded = files.upload()\n",
        "\n",
        "nome_arquivo = list(uploaded.keys())[0]\n",
        "df = pd.read_csv(nome_arquivo, encoding='latin1')  # ou use utf-8 se necessário\n",
        "\n",
        "def preprocess(text):\n",
        "    stop_words = set(stopwords.words('english'))\n",
        "    # Remove a especificação do language='english' na função word_tokenize\n",
        "    # O recurso 'punkt_tab' parece ser usado quando a linguagem é especificada.\n",
        "    # A remoção permite que NLTK use o 'punkt' baixado sem a necessidade explícita de 'punkt_tab'.\n",
        "    tokens = word_tokenize(str(text).lower())\n",
        "    tokens = [word for word in tokens if word not in stop_words and word not in string.punctuation]\n",
        "    return ' '.join(tokens)\n",
        "\n",
        "df.dropna(subset=['Title', 'Article'], inplace=True)\n",
        "df['Processed_Article'] = df['Article'].apply(preprocess)\n",
        "\n",
        "vectorizer = TfidfVectorizer()\n",
        "tfidf_matrix = vectorizer.fit_transform(df['Processed_Article'])\n",
        "\n",
        "def recomendar_por_titulo(titulo, top_n=5):\n",
        "    if titulo not in df['Title'].values:\n",
        "        print(f\"O título '{titulo}' não foi encontrado no dataset.\")\n",
        "        return\n",
        "\n",
        "    idx = df[df['Title'] == titulo].index[0]\n",
        "    cosine_sim = cosine_similarity(tfidf_matrix[idx], tfidf_matrix).flatten()\n",
        "    similar_indices = cosine_sim.argsort()[::-1][1:top_n+1]\n",
        "\n",
        "    print(f\"\\nArtigos semelhantes a: '{titulo}':\\n\")\n",
        "    for i in similar_indices:\n",
        "        print(f\"- {df.iloc[i]['Title']} (similaridade: {cosine_sim[i]:.2f})\")\n",
        "\n",
        "titulo_input = input(\"Digite o título do artigo: \")\n",
        "recomendar_por_titulo(titulo_input)"
      ],
      "metadata": {
        "id": "suajl0G2krcP"
      },
      "execution_count": null,
      "outputs": []
    }
  ],
  "metadata": {
    "colab": {
      "name": "Conheça o Colab",
      "provenance": [],
      "include_colab_link": true
    },
    "kernelspec": {
      "display_name": "Python 3",
      "name": "python3"
    }
  },
  "nbformat": 4,
  "nbformat_minor": 0
}